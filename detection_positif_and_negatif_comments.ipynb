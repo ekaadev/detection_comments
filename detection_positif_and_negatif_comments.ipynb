{
  "nbformat": 4,
  "nbformat_minor": 0,
  "metadata": {
    "colab": {
      "provenance": [],
      "authorship_tag": "ABX9TyN2YGq/MNIsmZkokeci7D39",
      "include_colab_link": true
    },
    "kernelspec": {
      "name": "python3",
      "display_name": "Python 3"
    },
    "language_info": {
      "name": "python"
    }
  },
  "cells": [
    {
      "cell_type": "markdown",
      "metadata": {
        "id": "view-in-github",
        "colab_type": "text"
      },
      "source": [
        "<a href=\"https://colab.research.google.com/github/ekaadev/detection_comments/blob/main/detection_positif_and_negatif_comments.ipynb\" target=\"_parent\"><img src=\"https://colab.research.google.com/assets/colab-badge.svg\" alt=\"Open In Colab\"/></a>"
      ]
    },
    {
      "cell_type": "code",
      "execution_count": null,
      "metadata": {
        "colab": {
          "base_uri": "https://localhost:8080/"
        },
        "id": "PZRHhsTThE-K",
        "outputId": "403cf2c6-de1f-4ef5-9909-61971859224c"
      },
      "outputs": [
        {
          "output_type": "stream",
          "name": "stdout",
          "text": [
            "Requirement already satisfied: gensim in /usr/local/lib/python3.11/dist-packages (4.3.3)\n",
            "Requirement already satisfied: scikit-learn in /usr/local/lib/python3.11/dist-packages (1.6.1)\n",
            "Requirement already satisfied: numpy<2.0,>=1.18.5 in /usr/local/lib/python3.11/dist-packages (from gensim) (1.26.4)\n",
            "Requirement already satisfied: scipy<1.14.0,>=1.7.0 in /usr/local/lib/python3.11/dist-packages (from gensim) (1.13.1)\n",
            "Requirement already satisfied: smart-open>=1.8.1 in /usr/local/lib/python3.11/dist-packages (from gensim) (7.1.0)\n",
            "Requirement already satisfied: joblib>=1.2.0 in /usr/local/lib/python3.11/dist-packages (from scikit-learn) (1.4.2)\n",
            "Requirement already satisfied: threadpoolctl>=3.1.0 in /usr/local/lib/python3.11/dist-packages (from scikit-learn) (3.6.0)\n",
            "Requirement already satisfied: wrapt in /usr/local/lib/python3.11/dist-packages (from smart-open>=1.8.1->gensim) (1.17.2)\n"
          ]
        }
      ],
      "source": [
        "! pip install gensim scikit-learn -U\n",
        "# add library\n",
        "import gensim\n",
        "import logging\n",
        "from gensim.models.doc2vec import TaggedDocument\n",
        "from gensim.models import Doc2Vec\n",
        "\n",
        "import random\n",
        "import re\n",
        "import os\n",
        "import numpy as np\n",
        "\n",
        "from sklearn.neighbors import KNeighborsClassifier\n",
        "from sklearn.ensemble import RandomForestClassifier\n",
        "from sklearn.model_selection import cross_val_predict\n",
        "from sklearn.metrics.pairwise import cosine_similarity\n",
        "from sklearn.pipeline import make_pipeline\n",
        "from sklearn.feature_extraction.text import CountVectorizer, TfidfTransformer\n"
      ]
    },
    {
      "cell_type": "code",
      "source": [
        "import kagglehub\n",
        "\n",
        "# Download latest version\n",
        "path = kagglehub.dataset_download(\"leadbest/googlenewsvectorsnegative300\")\n",
        "path2 = kagglehub.dataset_download(\"atulanandjha/stanford-sentiment-treebank-v2-sst2\")\n",
        "\n",
        "print(\"Path to dataset files:\", path)\n",
        "print(\"Path to dataset files:\", path2)"
      ],
      "metadata": {
        "colab": {
          "base_uri": "https://localhost:8080/"
        },
        "id": "a7IzIpCVOVrP",
        "outputId": "53d3ed80-0750-4b07-ee49-7251ec1ce3f7"
      },
      "execution_count": null,
      "outputs": [
        {
          "output_type": "stream",
          "name": "stdout",
          "text": [
            "Downloading from https://www.kaggle.com/api/v1/datasets/download/atulanandjha/stanford-sentiment-treebank-v2-sst2?dataset_version_number=30...\n"
          ]
        },
        {
          "output_type": "stream",
          "name": "stderr",
          "text": [
            "100%|██████████| 19.1M/19.1M [00:00<00:00, 119MB/s]"
          ]
        },
        {
          "output_type": "stream",
          "name": "stdout",
          "text": [
            "Extracting files...\n"
          ]
        },
        {
          "output_type": "stream",
          "name": "stderr",
          "text": [
            "\n"
          ]
        },
        {
          "output_type": "stream",
          "name": "stdout",
          "text": [
            "Path to dataset files: /kaggle/input/googlenewsvectorsnegative300\n",
            "Path to dataset files: /root/.cache/kagglehub/datasets/atulanandjha/stanford-sentiment-treebank-v2-sst2/versions/30\n"
          ]
        }
      ]
    },
    {
      "cell_type": "code",
      "source": [
        "# create a models\n",
        "gmodel = gensim.models.KeyedVectors.load_word2vec_format('/kaggle/input/googlenewsvectorsnegative300/GoogleNews-vectors-negative300.bin', binary=True)"
      ],
      "metadata": {
        "id": "Rm0IziRHLMAv"
      },
      "execution_count": null,
      "outputs": []
    },
    {
      "cell_type": "code",
      "source": [
        "def word_extract(word):\n",
        "  word = word.lower()\n",
        "  word = re.sub(r'<[^>]+>', ' ', word)\n",
        "  word = re.sub(r'(\\w)\\'(\\w)', '\\1\\2', word)\n",
        "  word = re.sub(r'\\W', ' ', word)\n",
        "  word = re.sub(r'\\s+', ' ', word)\n",
        "  word = word.strip()\n",
        "  return word.split()"
      ],
      "metadata": {
        "id": "-bHvBT_YPFIv"
      },
      "execution_count": null,
      "outputs": []
    },
    {
      "cell_type": "code",
      "source": [
        "import csv\n",
        "\n",
        "# unsupervised training data\n",
        "unsup_sentences = []\n",
        "\n",
        "!wget -P /tmp https://ai.stanford.edu/~amaas/data/sentiment/aclImdb_v1.tar.gz\n",
        "!tar -xzf /tmp/aclImdb_v1.tar.gz -C /tmp\n",
        "for dirname in ['/tmp/aclImdb/train/neg', '/tmp/aclImdb/train/pos', '/tmp/aclImdb/test/neg', '/tmp/aclImdb/test/pos']:\n",
        "  for filename in os.listdir(dirname):\n",
        "    with open(os.path.join(dirname, filename), 'r') as f:\n",
        "      words=word_extract(f.read())\n",
        "      unsup_sentences.append(TaggedDocument(words, [dirname + '/' + filename]))\n",
        "\n",
        "!wget -P /tmp http://www.cs.cornell.edu/people/pabo/movie-review-data/review_polarity.tar.gz\n",
        "!tar -xzf /tmp/review_polarity.tar.gz -C /tmp\n",
        "for dirname in ['/tmp/txt_sentoken/pos', '/tmp/txt_sentoken/neg']:\n",
        "  for filename in os.listdir(dirname):\n",
        "    with open(os.path.join(dirname, filename), 'r') as f:\n",
        "      for i, sended in enumerate(f):\n",
        "        words = word_extract(sended)\n",
        "        unsup_sentences.append(TaggedDocument(words, ['%s/%s-%d' % (dirname, filename, i)]))\n",
        "\n",
        "with open('/root/.cache/kagglehub/datasets/atulanandjha/stanford-sentiment-treebank-v2-sst2/versions/30/SST2-Data/SST2-Data/stanfordSentimentTreebank/stanfordSentimentTreebank/original_rt_snippets.txt', 'r', encoding='utf-8') as f:\n",
        "    for i, sended in enumerate(f):\n",
        "        words = word_extract(sended)\n",
        "        unsup_sentences.append(TaggedDocument(words, [f'rt-{i}']))\n"
      ],
      "metadata": {
        "colab": {
          "base_uri": "https://localhost:8080/"
        },
        "id": "jR9sTeIEQkYa",
        "outputId": "63954e05-7296-4632-8c1b-796680b2ee68"
      },
      "execution_count": null,
      "outputs": [
        {
          "output_type": "stream",
          "name": "stdout",
          "text": [
            "--2025-05-07 06:46:16--  https://ai.stanford.edu/~amaas/data/sentiment/aclImdb_v1.tar.gz\n",
            "Resolving ai.stanford.edu (ai.stanford.edu)... 171.64.68.10\n",
            "Connecting to ai.stanford.edu (ai.stanford.edu)|171.64.68.10|:443... connected.\n",
            "HTTP request sent, awaiting response... 200 OK\n",
            "Length: 84125825 (80M) [application/x-gzip]\n",
            "Saving to: ‘/tmp/aclImdb_v1.tar.gz.7’\n",
            "\n",
            "aclImdb_v1.tar.gz.7 100%[===================>]  80.23M  17.3MB/s    in 7.7s    \n",
            "\n",
            "2025-05-07 06:46:25 (10.4 MB/s) - ‘/tmp/aclImdb_v1.tar.gz.7’ saved [84125825/84125825]\n",
            "\n",
            "URL transformed to HTTPS due to an HSTS policy\n",
            "--2025-05-07 06:46:54--  https://www.cs.cornell.edu/people/pabo/movie-review-data/review_polarity.tar.gz\n",
            "Resolving www.cs.cornell.edu (www.cs.cornell.edu)... 132.236.207.53\n",
            "Connecting to www.cs.cornell.edu (www.cs.cornell.edu)|132.236.207.53|:443... connected.\n",
            "HTTP request sent, awaiting response... 200 OK\n",
            "Length: 3127238 (3.0M) [application/x-gzip]\n",
            "Saving to: ‘/tmp/review_polarity.tar.gz.6’\n",
            "\n",
            "review_polarity.tar 100%[===================>]   2.98M  15.7MB/s    in 0.2s    \n",
            "\n",
            "2025-05-07 06:46:55 (15.7 MB/s) - ‘/tmp/review_polarity.tar.gz.6’ saved [3127238/3127238]\n",
            "\n"
          ]
        }
      ]
    },
    {
      "cell_type": "code",
      "source": [
        "len(unsup_sentences)"
      ],
      "metadata": {
        "colab": {
          "base_uri": "https://localhost:8080/"
        },
        "id": "4Qiz7TuhfJw_",
        "outputId": "d65537de-69d9-4a1e-c7f0-4e7bcd10266c"
      },
      "execution_count": null,
      "outputs": [
        {
          "output_type": "execute_result",
          "data": {
            "text/plain": [
              "125325"
            ]
          },
          "metadata": {},
          "execution_count": 19
        }
      ]
    },
    {
      "cell_type": "code",
      "source": [
        "unsup_sentences[0:1]"
      ],
      "metadata": {
        "colab": {
          "base_uri": "https://localhost:8080/"
        },
        "id": "Oy1zcR2lfNCU",
        "outputId": "5bdf5ee3-b047-4329-fa52-c76e6acd1878"
      },
      "execution_count": null,
      "outputs": [
        {
          "output_type": "execute_result",
          "data": {
            "text/plain": [
              "[TaggedDocument(words=['fredd', 'dead', 'did', 'the', 'smartest', 'thing', 'it', 'coul', 'e', 'done', 'after', 'the', 'disappointment', 'of', 'the', 'fifth', 'film', 'it', 'started', 'from', 'scratch', 'sure', 'this', 'final', 'film', 'in', 'the', 'saga', 'is', 'silly', 'but', 'at', 'least', 'i', 'original', 'some', 'of', 'the', 'visuals', 'are', 'even', 'a', 'bit', 'breath', 'taking', 'and', 'the', 'story', 'of', 'fredd', 'kid', 'lisa', 'zane', 'returning', 'to', 'town', 'to', 'face', 'her', 'evil', 'father', 'is', 'unique', 'overall', 'the', 'movie', 'is', 'nothing', 'but', 'another', 'cartoon', 'made', 'to', 'get', 'kids', 'in', 'the', 'theater', 'it', 'has', 'a', 'bunch', 'of', 'good', 'actors', 'zane', 'yaphet', 'kotto', 'and', 'lezlie', 'deane', 'who', 'basically', 'look', 'dumb', 'and', 'wander', 'around', 'like', 'sheep', 'ready', 'for', 'slaughter', 'i', 'one', 'sided', 'i', 'a', 'magic', 'trick', 'and', 'in', 'the', 'end', 'i', 'nothing', 'but', 'goofy', 'childish', 'entertainment'], tags=['/tmp/aclImdb/train/neg/2364_4.txt'])]"
            ]
          },
          "metadata": {},
          "execution_count": 20
        }
      ]
    },
    {
      "cell_type": "code",
      "source": [
        "class PermuteSentences(object):\n",
        "  def __init__(self, sentences):\n",
        "    self.sentences=sentences\n",
        "\n",
        "  def __iter__(self):\n",
        "    shuffled = list(self.sentences)\n",
        "    random.shuffle(shuffled)\n",
        "    for sentence in shuffled:\n",
        "      yield sentence"
      ],
      "metadata": {
        "id": "351HUXU7f64g"
      },
      "execution_count": null,
      "outputs": []
    },
    {
      "cell_type": "code",
      "source": [
        "permuter = PermuteSentences(unsup_sentences)\n",
        "model = Doc2Vec(permuter, dm=0, hs=1, vector_size=50)"
      ],
      "metadata": {
        "colab": {
          "base_uri": "https://localhost:8080/"
        },
        "id": "M5H2xbGCgbEd",
        "outputId": "53b3317c-6a8b-480e-d2d3-f69623228248"
      },
      "execution_count": null,
      "outputs": [
        {
          "output_type": "stream",
          "name": "stderr",
          "text": [
            "WARNING:gensim.models.word2vec:Both hierarchical softmax and negative sampling are activated. This is probably a mistake. You should set either 'hs=0' or 'negative=0' to disable one of them. \n"
          ]
        }
      ]
    },
    {
      "cell_type": "code",
      "source": [
        "model.save('/content/reviews.d2v')"
      ],
      "metadata": {
        "id": "uZ8aCYGhh16y"
      },
      "execution_count": null,
      "outputs": []
    },
    {
      "cell_type": "code",
      "source": [
        "!wget https://archive.ics.uci.edu/ml/machine-learning-databases/00331/sentiment%20labelled%20sentences.zip -O /tmp/sentiment_labelled_sentences.zip\n",
        "!unzip /tmp/sentiment_labelled_sentences.zip -d /content/data"
      ],
      "metadata": {
        "colab": {
          "base_uri": "https://localhost:8080/"
        },
        "id": "Cah0aL13mgMn",
        "outputId": "64f2ce76-0bd4-4adb-b8ce-616fa3fb9203"
      },
      "execution_count": null,
      "outputs": [
        {
          "output_type": "stream",
          "name": "stdout",
          "text": [
            "--2025-05-07 07:17:06--  https://archive.ics.uci.edu/ml/machine-learning-databases/00331/sentiment%20labelled%20sentences.zip\n",
            "Resolving archive.ics.uci.edu (archive.ics.uci.edu)... 128.195.10.252\n",
            "Connecting to archive.ics.uci.edu (archive.ics.uci.edu)|128.195.10.252|:443... connected.\n",
            "HTTP request sent, awaiting response... 200 OK\n",
            "Length: unspecified\n",
            "Saving to: ‘/tmp/sentiment_labelled_sentences.zip’\n",
            "\n",
            "/tmp/sentiment_labe     [ <=>                ]  82.21K   462KB/s    in 0.2s    \n",
            "\n",
            "2025-05-07 07:17:07 (462 KB/s) - ‘/tmp/sentiment_labelled_sentences.zip’ saved [84188]\n",
            "\n",
            "Archive:  /tmp/sentiment_labelled_sentences.zip\n",
            "   creating: /content/data/sentiment labelled sentences/\n",
            "  inflating: /content/data/sentiment labelled sentences/.DS_Store  \n",
            "   creating: /content/data/__MACOSX/\n",
            "   creating: /content/data/__MACOSX/sentiment labelled sentences/\n",
            "  inflating: /content/data/__MACOSX/sentiment labelled sentences/._.DS_Store  \n",
            "  inflating: /content/data/sentiment labelled sentences/amazon_cells_labelled.txt  \n",
            "  inflating: /content/data/sentiment labelled sentences/imdb_labelled.txt  \n",
            "  inflating: /content/data/__MACOSX/sentiment labelled sentences/._imdb_labelled.txt  \n",
            "  inflating: /content/data/sentiment labelled sentences/readme.txt  \n",
            "  inflating: /content/data/__MACOSX/sentiment labelled sentences/._readme.txt  \n",
            "  inflating: /content/data/sentiment labelled sentences/yelp_labelled.txt  \n",
            "  inflating: /content/data/__MACOSX/._sentiment labelled sentences  \n"
          ]
        }
      ]
    },
    {
      "cell_type": "code",
      "source": [
        "sentences = []\n",
        "sentvecs = []\n",
        "sentiments = []\n",
        "for filename in ['yelp', 'amazon_cells', 'imdb']:\n",
        "  # Assuming the files are in a directory called 'data'\n",
        "  # Replace 'data' with the actual path to your files if different\n",
        "  file_path = os.path.join('/content/data/sentiment labelled sentences', '%s_labelled.txt' % filename)\n",
        "  with open(file_path, encoding='utf-8') as f:\n",
        "    for i, line in enumerate(f):\n",
        "      line_split = line.strip().split('\\t')\n",
        "      sentences.append(line_split[0])\n",
        "      # Make sure 'words' is defined and contains the words from the current sentence\n",
        "      words = word_extract(line_split[0])\n",
        "      sentvecs.append(model.infer_vector(words, epochs=10))\n",
        "      sentiments.append(int(line_split[1]))\n",
        "\n",
        "combined = list(zip(sentences, sentvecs, sentiments))\n",
        "random.shuffle(combined)\n",
        "sentences, sentvecs, sentiments = zip(*combined)"
      ],
      "metadata": {
        "id": "kPU5vvO2iJi0"
      },
      "execution_count": null,
      "outputs": []
    },
    {
      "cell_type": "code",
      "source": [
        "clf = KNeighborsClassifier(n_neighbors=9)\n",
        "clfrf = RandomForestClassifier()"
      ],
      "metadata": {
        "id": "pgOAUyj-m3jD"
      },
      "execution_count": null,
      "outputs": []
    },
    {
      "cell_type": "code",
      "source": [
        "from sklearn.model_selection import cross_val_score\n",
        "score = cross_val_score(clf, sentvecs, sentiments, cv=5)\n",
        "np.mean(score), np.std(score)"
      ],
      "metadata": {
        "colab": {
          "base_uri": "https://localhost:8080/"
        },
        "id": "OCtzHPJynIQb",
        "outputId": "eda52f00-369f-49db-f0ac-a6ebbc377fa9"
      },
      "execution_count": null,
      "outputs": [
        {
          "output_type": "execute_result",
          "data": {
            "text/plain": [
              "(0.7816666666666666, 0.009249624617007748)"
            ]
          },
          "metadata": {},
          "execution_count": 32
        }
      ]
    },
    {
      "cell_type": "code",
      "source": [
        "score = cross_val_score(clfrf, sentvecs, sentiments, cv=5)\n",
        "np.mean(score), np.std(score)"
      ],
      "metadata": {
        "colab": {
          "base_uri": "https://localhost:8080/"
        },
        "id": "9RfgCDowntVY",
        "outputId": "2ad59cf7-8468-43e7-caef-4d3a131f0033"
      },
      "execution_count": null,
      "outputs": [
        {
          "output_type": "execute_result",
          "data": {
            "text/plain": [
              "(0.7879999999999999, 0.01774510887227489)"
            ]
          },
          "metadata": {},
          "execution_count": 33
        }
      ]
    },
    {
      "cell_type": "code",
      "source": [
        "pipeline = make_pipeline(CountVectorizer(), TfidfTransformer(), RandomForestClassifier())\n",
        "score = cross_val_score(clfrf, sentvecs, sentiments, cv=5)\n",
        "np.mean(score), np.std(score)"
      ],
      "metadata": {
        "colab": {
          "base_uri": "https://localhost:8080/"
        },
        "id": "8mkeOEZ-n4Sg",
        "outputId": "f2b2069e-7f98-42ae-a75f-11fcf6f43a50"
      },
      "execution_count": null,
      "outputs": [
        {
          "output_type": "execute_result",
          "data": {
            "text/plain": [
              "(0.7873333333333334, 0.009463379711052242)"
            ]
          },
          "metadata": {},
          "execution_count": 34
        }
      ]
    }
  ]
}